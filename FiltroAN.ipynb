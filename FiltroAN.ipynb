{
 "cells": [
  {
   "cell_type": "markdown",
   "metadata": {
    "deletable": true,
    "editable": true
   },
   "source": [
    "# Introdução\n",
    "--------------\n",
    "\n",
    "Filtros são sistemas lineares e invariantes no tempo que podem atuar de forma seletiva em frequências."
   ]
  },
  {
   "cell_type": "markdown",
   "metadata": {
    "deletable": true,
    "editable": true
   },
   "source": [
    "## Nomenclatura\n",
    "\n",
    "$H(j\\Omega)=\\frac{Y(j\\Omega)}{X(j\\Omega)}$ resposta de frequência\n",
    "\n",
    "$|H(\\Omega)|_{dB}$ ganho\n",
    "\n",
    "$H'(j\\Omega) = \\frac{X(j\\Omega)}{Y(j\\Omega)}$ função de perda\n",
    "\n",
    "$|H'(\\Omega)|_{dB}$ atenuação"
   ]
  },
  {
   "cell_type": "markdown",
   "metadata": {
    "deletable": true,
    "editable": true
   },
   "source": [
    "### Como determinar $H$?\n",
    "\n",
    "como colocar os polos e zeros de $H$?\n",
    "\n",
    "Hoje -> são usados algoritmos para a otimização da resposta\n",
    "\n",
    "Passado -> escolha de famílias de funções onde o seus zeros seriam conhecidos"
   ]
  },
  {
   "cell_type": "markdown",
   "metadata": {
    "deletable": true,
    "editable": true
   },
   "source": [
    "Requisitos\n",
    "\n",
    "Ganho\n",
    "$BP \\approx 1$\n",
    "$BR \\approx 0$\n",
    "\n",
    "Perda\n",
    "$BP \\approx 1$\n",
    "$BR \\gg 0$\n",
    "\n",
    "BP é a banda de passagem\n",
    "BR é a bande de rejeição\n",
    "\n",
    "\n",
    "Relação de Feldt-Keller\n",
    "\n",
    "$|H'|^2 = 1 + |K|^2$ \n",
    "\n",
    "K é a função de approximação\n",
    "\n",
    "Requisito de K\n",
    "\n",
    "1. próximo de zero dentro da banda de passagem \n",
    "2. grande o suficiente na banda de rejeição"
   ]
  },
  {
   "cell_type": "markdown",
   "metadata": {
    "deletable": true,
    "editable": true
   },
   "source": [
    "A forma mais simples de K é a função y=x^N\n",
    "1. entre [0, 1] y esta próximo de 0\n",
    "2. quanto mais afastado de 1 maior é o seu valor\n",
    "3. sempre y=1 em x=1\n",
    "4. ajustando para que em x=1 tenha atenuação $\\epsilon$\n",
    "\n",
    "\n",
    "-> colocar a função de Chebyshev"
   ]
  },
  {
   "cell_type": "code",
   "execution_count": 1,
   "metadata": {
    "collapsed": false,
    "deletable": true,
    "editable": true
   },
   "outputs": [
    {
     "data": {
      "image/png": "[encoded data removed]",
      "text/plain": [
       "<matplotlib.figure.Figure at 0x7f55fd7553c8>"
      ]
     },
     "metadata": {},
     "output_type": "display_data"
    }
   ],
   "source": [
    "import numpy\n",
    "import matplotlib.pyplot as plt\n",
    "#from sympy import *\n",
    "#init_printing()\n",
    "x = numpy.arange(0, 2, 0.01)\n",
    "for i in range(5):\n",
    "    plt.plot(x, x**i)\n",
    "plt.show()"
   ]
  },
  {
   "cell_type": "markdown",
   "metadata": {
    "deletable": true,
    "editable": true
   },
   "source": [
    "reescrevendo a função de $K$ tem-se\n",
    "$K(\\omega) = \\epsilon(\\frac{\\omega}{\\omega_p})^N$\n",
    "\n",
    "1. onde $\\omega_p$ é a frequência máxima na banda de passagem e possui atenução Amax.\n",
    "2. e, $\\omega_r$ é a frequência onde se a atenuação mínima Amin\n",
    "3. a função $K()$ é monótona crescente então a função $H'()$ também é monótoma crescente\n",
    "4. a função $H'()$ é maximamente plana na origem. Possui todas as derivadas nulas em zero.\n",
    "\n",
    "Da relação de Feldt-Keller\n",
    "\n",
    "$|H'(\\omega)|^2 = 1 + |K(\\omega)|^2$\n",
    "\n",
    "$|H'(\\omega)|^2 =  1 + \\epsilon^2(\\frac{\\omega}{\\omega_p})^{2N}$\n",
    "\n",
    "a curva de atenução é dada por: $A(\\omega) = 10*\\log_{10}(1+ \\epsilon^2(\\frac{\\omega}{\\omega_p})^{2N})$\n",
    "\n",
    "Como determinar os parâmetros $\\epsilon$, $N$\n",
    "\n",
    "1. $Amax = A(\\omega)|_{w = \\omega_p}$, determina-se $\\epsilon$\n",
    "2. $Amin = A(\\omega)|_{w = \\omega_r}$, determina-se $N$"
   ]
  },
  {
   "cell_type": "code",
   "execution_count": 2,
   "metadata": {
    "collapsed": false,
    "deletable": true,
    "editable": true
   },
   "outputs": [
    {
     "name": "stdout",
     "output_type": "stream",
     "text": [
      "e =  0.50884713991\n",
      "N =  4.28937407596  ->  5\n"
     ]
    }
   ],
   "source": [
    "import matplotlib.pyplot as plt\n",
    "import numpy as np\n",
    "import cmath\n",
    "import math\n",
    "\n",
    "\n",
    "#### Especificações do filtro Butterworth#####\n",
    "#BPassagem\n",
    "Amax = 1.0\n",
    "wp   = 1.0\n",
    "#BRejeicao\n",
    "Amin = 20.0\n",
    "wr   = 2.0\n",
    "##############################################\n",
    "\n",
    "e= np.sqrt(10**(Amax/10)-1)\n",
    "print('e = ', e)\n",
    "\n",
    "n = (np.log((10**(Amin/10)-1)/(e**2)))/(2*np.log(wr/wp))\n",
    "print('N = ', n, ' -> ', math.ceil(n))\n",
    "n = math.ceil(n)"
   ]
  },
  {
   "cell_type": "markdown",
   "metadata": {
    "deletable": true,
    "editable": true
   },
   "source": [
    "O módulo da Função de ganho será:\n",
    "\n",
    "$$|H(\\omega)|^2 = \\frac{1}{1+\\epsilon^2(\\frac{\\omega}{\\omega_p})^{2N}}$$\n",
    "\n",
    "onde são conhecidos $\\epsilon$, $N$ e $\\omega_p$.\n",
    "    \n",
    "Problema: como encontrar os polos da função de transferência no plano 'S' se esta defindo apenas em 'j\\omega'?\n",
    "   \n",
    "   Uso da técnica conhecida como \\emph{Continuação Analítica}\n",
    "   \n",
    "   $s = j\\omega$ então $-s^2 = \\omega^2$\n",
    "   \n",
    "   Substituindo na equação anterior tem-se, apenas os pólos:\n",
    "   \n",
    "   pólos = raízes de $1+\\frac{\\epsilon^2}{\\omega_p^N}(\\omega^2)^N$\n",
    "   \n",
    "   $1+\\frac{\\epsilon^2}{\\omega_p^N}(-s^2)^N \\rightarrow \\frac{\\epsilon^2}{\\omega_p^{2N}}(-s^2)^N = -1$\n",
    "   \n",
    "   primeira análise\n",
    "   \n",
    "   se considera o termo $\\frac{\\epsilon^2}{\\omega_p^{2N}} = 1$. É conhecido como filtro normalizado.\n",
    "   \n",
    "   neste caso:\n",
    "   \n",
    "   1. $N$ impar tem-se: $s^{2N} = 1$ cuja solução são as $2N$ raízes da unidade onde s=1 e s=-1 são soluções do problema; são raízes da forma $e^{j\\pi/N k}$\n",
    "   2. $N$ par, tem-se: $s^{2N} = -1$ cuja solução é da forma $e^{j(k\\pi/N + \\pi/2N)}$   \n",
    "   \n",
    "   As soluções reais são obtidas pela escala dos pólos do círculo unitário com o valor   \n",
    "   $\\frac{\\omega_p}{\\epsilon^{1/N}}$\n",
    "   \n",
    "   "
   ]
  },
  {
   "cell_type": "code",
   "execution_count": 3,
   "metadata": {
    "collapsed": false,
    "deletable": true,
    "editable": true
   },
   "outputs": [
    {
     "name": "stdout",
     "output_type": "stream",
     "text": [
      "R =  1.14467588196\n",
      "Raizes normalizadas:\n",
      "-1\n",
      "1\n",
      "-1/4 + sqrt(5)/4 - I*sqrt(sqrt(5)/8 + 5/8)\n",
      "-1/4 + sqrt(5)/4 + I*sqrt(sqrt(5)/8 + 5/8)\n",
      "1/4 + sqrt(5)/4 - I*sqrt(-sqrt(5)/8 + 5/8)\n",
      "1/4 + sqrt(5)/4 + I*sqrt(-sqrt(5)/8 + 5/8)\n",
      "-sqrt(5)/4 - 1/4 - I*sqrt(-sqrt(5)/8 + 5/8)\n",
      "-sqrt(5)/4 - 1/4 + I*sqrt(-sqrt(5)/8 + 5/8)\n",
      "-sqrt(5)/4 + 1/4 - I*sqrt(sqrt(5)/8 + 5/8)\n",
      "-sqrt(5)/4 + 1/4 + I*sqrt(sqrt(5)/8 + 5/8)\n"
     ]
    }
   ],
   "source": [
    "from sympy import *\n",
    "from sympy.abc import s\n",
    "from sympy.solvers import solve\n",
    "\n",
    "########  pergunta 1   #######\n",
    "#### Isso esta certo quando se compara com a resposta de frequencia ?  #####\n",
    "r = wp/e**(1.0/n)\n",
    "print('R = ', r)\n",
    "#############\n",
    "\n",
    "######### pergunta 2 ###########\n",
    "## neste ponto escreva a recorrencia da função de Chebyshev\n",
    "################################\n",
    "\n",
    "\n",
    "##### essa solucao é para o filtro Butterworth normalizado ##########\n",
    "l = solve((-s**2)**n + 1)\n",
    "#########################################################\n",
    "\n",
    "######  Pergunta 3  #####################\n",
    "### Como ficaria para o filtro Chebyshev?\n",
    "##########################################\n",
    "\n",
    "print('Raizes normalizadas:')\n",
    "for polo in l:\n",
    "    print(polo)"
   ]
  },
  {
   "cell_type": "markdown",
   "metadata": {
    "deletable": true,
    "editable": true
   },
   "source": [
    "Existem $2N$ raízes complexas\n",
    "\n",
    "O sistema inicial previa apenas a ordem $N$ mas como foi modelado por potência houve a insersão de mais $N$. \n",
    "\n",
    "Neste caso, são escolhidas apenas as raízes para deixar o sistema estável e causal, $R\\{raízes\\} < 0$."
   ]
  },
  {
   "cell_type": "code",
   "execution_count": 4,
   "metadata": {
    "collapsed": false,
    "deletable": true,
    "editable": true
   },
   "outputs": [
    {
     "name": "stdout",
     "output_type": "stream",
     "text": [
      "Raizes selecionadas:\n",
      "(-1.1446758819614982+1.4018236549053223e-16j)\n",
      "(-0.9260622415579832-0.6728236020718485j)\n",
      "(-0.9260622415579832+0.6728236020718485j)\n",
      "(-0.35372430057723436-1.0886514565853846j)\n",
      "(-0.35372430057723436+1.0886514565853846j)\n"
     ]
    }
   ],
   "source": [
    "##### Pergunta 4 ################\n",
    "## Use a biblioteca abaixo para reduzir a quantidade de casas decimais da resposta\n",
    "#import mpmath as mp\n",
    "#sys.modules['sympy.mpmath'] = mpmath\n",
    "#mp.dps = 2; mp.pretty = True\n",
    "\n",
    "######## ate aqui ###########\n",
    "\n",
    "raizes = []\n",
    "for i in range(2*n):\n",
    "    a, f = cmath.polar(l[i])\n",
    "    if ((f>np.pi/2) or (f<-np.pi/2)) :\n",
    "        raizes.append(cmath.rect(a*r,f))\n",
    "\n",
    "print('Raizes selecionadas:')\n",
    "for polo in raizes:\n",
    "    print(polo)\n"
   ]
  },
  {
   "cell_type": "markdown",
   "metadata": {
    "deletable": true,
    "editable": true
   },
   "source": [
    "Reescrendo a função de transferência, tem-se:"
   ]
  },
  {
   "cell_type": "code",
   "execution_count": 5,
   "metadata": {
    "collapsed": false,
    "deletable": true,
    "editable": true
   },
   "outputs": [
    {
     "name": "stdout",
     "output_type": "stream",
     "text": [
      "[ 1.00000000 +0.00000000e+00j  3.70424897 +0.00000000e+00j\n",
      "  6.86073020 +0.00000000e+00j  7.85331239 +0.00000000e+00j\n",
      "  5.55581487 -4.44089210e-16j  1.96522673 +0.00000000e+00j]\n"
     ]
    }
   ],
   "source": [
    "Q = np.poly(raizes)\n",
    "print(Q)"
   ]
  },
  {
   "cell_type": "code",
   "execution_count": 6,
   "metadata": {
    "collapsed": false,
    "deletable": true,
    "editable": true
   },
   "outputs": [
    {
     "name": "stdout",
     "output_type": "stream",
     "text": [
      "Funcao de Transferencia - H(s)\n",
      "1/(1.0*s**5 + 3.70424896623193*s**4 + 6.86073020191517*s**3 + 7.85331239477714*s**2 + s*(5.55581486811414 - 4.44089209850063e-16*j) + 1.96522672836027)\n"
     ]
    }
   ],
   "source": [
    "from lcapy import *\n",
    "\n",
    "H = tf(1, Q)\n",
    "print('Funcao de Transferencia - H(s)')\n",
    "print(H)\n"
   ]
  },
  {
   "cell_type": "markdown",
   "metadata": {
    "deletable": true,
    "editable": true
   },
   "source": [
    "As raízes são:"
   ]
  },
  {
   "cell_type": "code",
   "execution_count": 10,
   "metadata": {
    "collapsed": false,
    "deletable": true,
    "editable": true
   },
   "outputs": [],
   "source": [
    "## Plot as raízes no espaco Z\n",
    "##\n",
    "##"
   ]
  },
  {
   "cell_type": "code",
   "execution_count": 8,
   "metadata": {
    "collapsed": false,
    "deletable": true,
    "editable": true
   },
   "outputs": [
    {
     "data": {
      "image/png": "[encoded data removed]",
      "text/plain": [
       "<matplotlib.figure.Figure at 0x7f55e18d9c18>"
      ]
     },
     "metadata": {},
     "output_type": "display_data"
    }
   ],
   "source": [
    "##### Pergunta 6 ######\n",
    "#Arrume a reposta de frequencia \n",
    "# para ficar como a especificacao\n",
    "#######################\n",
    "\n",
    "\n",
    "A = H(j * 2 * pi * f)\n",
    "\n",
    "fv = np.logspace(-1, .1, 8)\n",
    "#fv  = np.linspace(0.0, 0.01, 80)\n",
    "\n",
    "A.plot(fv, log_scale=True)\n",
    "\n",
    "plt.show()\n",
    "\n"
   ]
  },
  {
   "cell_type": "code",
   "execution_count": null,
   "metadata": {
    "collapsed": true,
    "deletable": true,
    "editable": true
   },
   "outputs": [],
   "source": []
  },
  {
   "cell_type": "code",
   "execution_count": null,
   "metadata": {
    "collapsed": true,
    "deletable": true,
    "editable": true
   },
   "outputs": [],
   "source": []
  }
 ],
 "metadata": {
  "kernelspec": {
   "display_name": "Python 3",
   "language": "python",
   "name": "python3"
  },
  "language_info": {
   "codemirror_mode": {
    "name": "ipython",
    "version": 3
   },
   "file_extension": ".py",
   "mimetype": "text/x-python",
   "name": "python",
   "nbconvert_exporter": "python",
   "pygments_lexer": "ipython3",
   "version": "3.5.3"
  }
 },
 "nbformat": 4,
 "nbformat_minor": 0
}
